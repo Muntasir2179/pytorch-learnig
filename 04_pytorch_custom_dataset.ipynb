{
  "nbformat": 4,
  "nbformat_minor": 0,
  "metadata": {
    "colab": {
      "provenance": [],
      "gpuType": "T4",
      "authorship_tag": "ABX9TyPR93Gdmvw0aw2croduq6Pu",
      "include_colab_link": true
    },
    "kernelspec": {
      "name": "python3",
      "display_name": "Python 3"
    },
    "language_info": {
      "name": "python"
    },
    "accelerator": "GPU"
  },
  "cells": [
    {
      "cell_type": "markdown",
      "metadata": {
        "id": "view-in-github",
        "colab_type": "text"
      },
      "source": [
        "<a href=\"https://colab.research.google.com/github/Muntasir2179/pytorch-learnig/blob/custom-dataset/04_pytorch_custom_dataset.ipynb\" target=\"_parent\"><img src=\"https://colab.research.google.com/assets/colab-badge.svg\" alt=\"Open In Colab\"/></a>"
      ]
    },
    {
      "cell_type": "markdown",
      "source": [
        "# Importing PyTorch and setting up device-agnostic code"
      ],
      "metadata": {
        "id": "E2q1B501P6xo"
      }
    },
    {
      "cell_type": "code",
      "execution_count": 2,
      "metadata": {
        "colab": {
          "base_uri": "https://localhost:8080/",
          "height": 36
        },
        "id": "9aYrd96-Pktv",
        "outputId": "e2ab770e-2add-4fbb-8c86-d2d3ea49e4e4"
      },
      "outputs": [
        {
          "output_type": "execute_result",
          "data": {
            "text/plain": [
              "'2.0.1+cu118'"
            ],
            "application/vnd.google.colaboratory.intrinsic+json": {
              "type": "string"
            }
          },
          "metadata": {},
          "execution_count": 2
        }
      ],
      "source": [
        "import torch\n",
        "from torch import nn\n",
        "torch.__version__"
      ]
    },
    {
      "cell_type": "code",
      "source": [
        "# device agnostic code\n",
        "device = \"cuda\" if torch.cuda.is_available() else \"cpu\"\n",
        "device"
      ],
      "metadata": {
        "colab": {
          "base_uri": "https://localhost:8080/",
          "height": 36
        },
        "id": "4Z1QbYM4QG7X",
        "outputId": "bd499805-eae4-442e-da68-0a788ef97f65"
      },
      "execution_count": 3,
      "outputs": [
        {
          "output_type": "execute_result",
          "data": {
            "text/plain": [
              "'cuda'"
            ],
            "application/vnd.google.colaboratory.intrinsic+json": {
              "type": "string"
            }
          },
          "metadata": {},
          "execution_count": 3
        }
      ]
    },
    {
      "cell_type": "markdown",
      "source": [
        "# Getting some data for our FoodVision project"
      ],
      "metadata": {
        "id": "3RTtO_pfQfq1"
      }
    },
    {
      "cell_type": "code",
      "source": [
        "import requests\n",
        "import zipfile\n",
        "from pathlib import Path\n",
        "\n",
        "# setup path to a data folder\n",
        "data_path = Path('data/')\n",
        "image_path = data_path / 'pizza_steak_sushi'\n",
        "\n",
        "# if the image folder doesn't exist, download it and prepare it...\n",
        "if image_path.is_dir():\n",
        "  print(f\"{image_path} dicectory already exist.....skipping download\")\n",
        "else:\n",
        "  print(f\"{image_path} does not exist, creating one....\")\n",
        "  image_path.mkdir(parents=True, exist_ok=True)\n",
        "\n",
        "# download pizza, steak and sushi data\n",
        "with open(data_path / \"pizza_steak_sushi.zip\", \"wb\") as f:\n",
        "  request = requests.get(\"https://github.com/mrdbourke/pytorch-deep-learning/raw/main/data/pizza_steak_sushi.zip\")\n",
        "  print(f\"Downloading pizza, steak and sushi data....\")\n",
        "  f.write(request.content)\n",
        "\n",
        "# unzip pizza, steak, sushi data\n",
        "with zipfile.ZipFile(data_path / \"pizza_steak_sushi.zip\", \"r\") as zip_ref:\n",
        "  print(\"Unzipping pizza, steak and sushi data....\")\n",
        "  zip_ref.extractall(image_path)"
      ],
      "metadata": {
        "colab": {
          "base_uri": "https://localhost:8080/"
        },
        "id": "UU7517KWQiBH",
        "outputId": "e18419e3-bc4b-4912-a4c5-c787ca7dc995"
      },
      "execution_count": 7,
      "outputs": [
        {
          "output_type": "stream",
          "name": "stdout",
          "text": [
            "data/pizza_steak_sushi dicectory already exist.....skipping download\n",
            "Downloading pizza, steak and sushi data....\n",
            "Unzipping pizza, steak and sushi data....\n"
          ]
        }
      ]
    },
    {
      "cell_type": "markdown",
      "source": [
        "# Becoming one with the data (data preparation and data exploration)"
      ],
      "metadata": {
        "id": "S9p4R_p6dcl8"
      }
    },
    {
      "cell_type": "code",
      "source": [
        "import os\n",
        "def walk_through_dir(dir_path):\n",
        "  \"\"\"Walks through dir_path returning its contents.\"\"\"\n",
        "  for dirpath, dirnames, filenames in os.walk(dir_path):\n",
        "    print(f\"there are {len(dirnames)} directories and {len(filenames)} images in '{dirpath}'.\")"
      ],
      "metadata": {
        "id": "NyZWQpkkdcQ6"
      },
      "execution_count": 8,
      "outputs": []
    },
    {
      "cell_type": "code",
      "source": [
        "walk_through_dir(image_path)"
      ],
      "metadata": {
        "colab": {
          "base_uri": "https://localhost:8080/"
        },
        "id": "vrlEUnDheQKK",
        "outputId": "0c81f757-f927-431f-9158-d5333611fe5a"
      },
      "execution_count": 9,
      "outputs": [
        {
          "output_type": "stream",
          "name": "stdout",
          "text": [
            "there are 2 directories and 0 images in 'data/pizza_steak_sushi'.\n",
            "there are 3 directories and 0 images in 'data/pizza_steak_sushi/test'.\n",
            "there are 0 directories and 31 images in 'data/pizza_steak_sushi/test/sushi'.\n",
            "there are 0 directories and 19 images in 'data/pizza_steak_sushi/test/steak'.\n",
            "there are 0 directories and 25 images in 'data/pizza_steak_sushi/test/pizza'.\n",
            "there are 3 directories and 0 images in 'data/pizza_steak_sushi/train'.\n",
            "there are 0 directories and 72 images in 'data/pizza_steak_sushi/train/sushi'.\n",
            "there are 0 directories and 75 images in 'data/pizza_steak_sushi/train/steak'.\n",
            "there are 0 directories and 78 images in 'data/pizza_steak_sushi/train/pizza'.\n"
          ]
        }
      ]
    },
    {
      "cell_type": "code",
      "source": [
        "# setup train and testing paths\n",
        "train_dir = image_path / 'train'\n",
        "test_dir = image_path / 'test'\n",
        "train_dir, test_dir"
      ],
      "metadata": {
        "colab": {
          "base_uri": "https://localhost:8080/"
        },
        "id": "u_IzBn-cfBLw",
        "outputId": "df075101-431d-4c52-977d-caeefc9a94b9"
      },
      "execution_count": 10,
      "outputs": [
        {
          "output_type": "execute_result",
          "data": {
            "text/plain": [
              "(PosixPath('data/pizza_steak_sushi/train'),\n",
              " PosixPath('data/pizza_steak_sushi/test'))"
            ]
          },
          "metadata": {},
          "execution_count": 10
        }
      ]
    }
  ]
}