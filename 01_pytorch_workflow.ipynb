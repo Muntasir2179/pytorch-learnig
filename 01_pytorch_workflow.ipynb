{
  "nbformat": 4,
  "nbformat_minor": 0,
  "metadata": {
    "colab": {
      "provenance": [],
      "toc_visible": true,
      "gpuType": "T4",
      "authorship_tag": "ABX9TyN/cm9JzmBD7sXj60ZZXMgU",
      "include_colab_link": true
    },
    "kernelspec": {
      "name": "python3",
      "display_name": "Python 3"
    },
    "language_info": {
      "name": "python"
    },
    "accelerator": "GPU"
  },
  "cells": [
    {
      "cell_type": "markdown",
      "metadata": {
        "id": "view-in-github",
        "colab_type": "text"
      },
      "source": [
        "<a href=\"https://colab.research.google.com/github/Muntasir2179/pytorch-learnig/blob/pytorch-workflow/01_pytorch_workflow.ipynb\" target=\"_parent\"><img src=\"https://colab.research.google.com/assets/colab-badge.svg\" alt=\"Open In Colab\"/></a>"
      ]
    },
    {
      "cell_type": "markdown",
      "source": [
        "# PyTorch Workflow"
      ],
      "metadata": {
        "id": "phXqBuyax4zB"
      }
    },
    {
      "cell_type": "code",
      "execution_count": 1,
      "metadata": {
        "colab": {
          "base_uri": "https://localhost:8080/",
          "height": 36
        },
        "id": "m0pbi7z0xw4N",
        "outputId": "e1ea53d1-a884-41b2-be46-18b8b48a7959"
      },
      "outputs": [
        {
          "output_type": "execute_result",
          "data": {
            "text/plain": [
              "'2.0.1+cu118'"
            ],
            "application/vnd.google.colaboratory.intrinsic+json": {
              "type": "string"
            }
          },
          "metadata": {},
          "execution_count": 1
        }
      ],
      "source": [
        "import torch\n",
        "from torch import nn\n",
        "import matplotlib.pyplot as plt\n",
        "\n",
        "torch.__version__"
      ]
    },
    {
      "cell_type": "markdown",
      "source": [
        "# Data (preparing and loading)\n",
        "\n",
        "Data can be anything in machine learning.\n",
        "\n",
        "* Exce spreadsheet.\n",
        "* Image of any kind.\n",
        "* Videos.\n",
        "* Audio.\n",
        "* DNA.\n",
        "* Text\n",
        "\n",
        "Machine learning is a game of two parts:\n",
        "\n",
        "1. Get data into a numerical representation.\n",
        "2. Build a model to learn patterns in that numerical representation.\n",
        "\n",
        "To showcase this, let's create some *known* data using the linear regression formula.\n",
        "\n",
        "We will use a linear regression formula to make straight line with *known* **Parameter**."
      ],
      "metadata": {
        "id": "TDRvxZ_dy1wX"
      }
    },
    {
      "cell_type": "code",
      "source": [
        "# creating known parameter\n",
        "weight = 0.7\n",
        "bias = 0.3\n",
        "\n",
        "# create some data\n",
        "start = 0\n",
        "end = 1\n",
        "step = 0.02\n",
        "X = torch.arange(start, end, step).unsqueeze(dim=1)\n",
        "y = weight * X + bias\n",
        "\n",
        "X[:10], y[:10]"
      ],
      "metadata": {
        "colab": {
          "base_uri": "https://localhost:8080/"
        },
        "id": "Twq5BJBnzHmK",
        "outputId": "b03d318a-93f5-4fe6-f5cd-d4a482b7f20c"
      },
      "execution_count": 2,
      "outputs": [
        {
          "output_type": "execute_result",
          "data": {
            "text/plain": [
              "(tensor([[0.0000],\n",
              "         [0.0200],\n",
              "         [0.0400],\n",
              "         [0.0600],\n",
              "         [0.0800],\n",
              "         [0.1000],\n",
              "         [0.1200],\n",
              "         [0.1400],\n",
              "         [0.1600],\n",
              "         [0.1800]]),\n",
              " tensor([[0.3000],\n",
              "         [0.3140],\n",
              "         [0.3280],\n",
              "         [0.3420],\n",
              "         [0.3560],\n",
              "         [0.3700],\n",
              "         [0.3840],\n",
              "         [0.3980],\n",
              "         [0.4120],\n",
              "         [0.4260]]))"
            ]
          },
          "metadata": {},
          "execution_count": 2
        }
      ]
    },
    {
      "cell_type": "code",
      "source": [
        "len(X), len(y)"
      ],
      "metadata": {
        "colab": {
          "base_uri": "https://localhost:8080/"
        },
        "id": "YTOzJPJZ1elJ",
        "outputId": "739ba109-6f94-4a30-b4a3-24d2ea2f22c3"
      },
      "execution_count": 3,
      "outputs": [
        {
          "output_type": "execute_result",
          "data": {
            "text/plain": [
              "(50, 50)"
            ]
          },
          "metadata": {},
          "execution_count": 3
        }
      ]
    },
    {
      "cell_type": "markdown",
      "source": [
        "# Spliting data into train and test set"
      ],
      "metadata": {
        "id": "kDjzjB782Fi4"
      }
    },
    {
      "cell_type": "code",
      "source": [
        "train_split = int(0.8 * len(X))\n",
        "train_split"
      ],
      "metadata": {
        "colab": {
          "base_uri": "https://localhost:8080/"
        },
        "id": "dA-h5KlX2I_4",
        "outputId": "c624aefa-4826-4abf-8bc0-6dee365a6750"
      },
      "execution_count": 4,
      "outputs": [
        {
          "output_type": "execute_result",
          "data": {
            "text/plain": [
              "40"
            ]
          },
          "metadata": {},
          "execution_count": 4
        }
      ]
    },
    {
      "cell_type": "code",
      "source": [
        "X_train, y_train = X[:train_split], y[:train_split]\n",
        "X_test, y_test = X[train_split:], y[train_split:]\n",
        "\n",
        "len(X_train), len(y_train), len(X_test), len(y_test)"
      ],
      "metadata": {
        "colab": {
          "base_uri": "https://localhost:8080/"
        },
        "id": "HzKiAsUl29pY",
        "outputId": "7ad98762-a102-4a99-b565-0434d5e421fe"
      },
      "execution_count": 5,
      "outputs": [
        {
          "output_type": "execute_result",
          "data": {
            "text/plain": [
              "(40, 40, 10, 10)"
            ]
          },
          "metadata": {},
          "execution_count": 5
        }
      ]
    },
    {
      "cell_type": "code",
      "source": [
        "def plot_predictions(train_data=X_train,\n",
        "                     train_labels=y_train,\n",
        "                     test_data=X_test,\n",
        "                     test_labels=y_test,\n",
        "                     predictions=None):\n",
        "  \"\"\"\n",
        "  Plots training data and test data and compares predictions.\n",
        "  \"\"\"\n",
        "  plt.figure(figsize=(10, 7))\n",
        "  plt.scatter(train_data, train_labels, c='b', s=4, label='Training data')\n",
        "  plt.scatter(test_data, test_labels, c='g', s=4, label='Testing data')\n",
        "\n",
        "  # are there predictions\n",
        "  if predictions is not None:\n",
        "    plt.scatter(test_data, predictions, c='r', s=4, label='Predictions')\n",
        "  plt.legend(prop={\"size\": 14})"
      ],
      "metadata": {
        "id": "1yyqILnPrkYQ"
      },
      "execution_count": 6,
      "outputs": []
    },
    {
      "cell_type": "code",
      "source": [
        "plot_predictions()"
      ],
      "metadata": {
        "colab": {
          "base_uri": "https://localhost:8080/",
          "height": 599
        },
        "id": "P3CKKUZWumon",
        "outputId": "cf87b84f-8ba6-4519-8a48-ff0529539d58"
      },
      "execution_count": 7,
      "outputs": [
        {
          "output_type": "display_data",
          "data": {
            "text/plain": [
              "<Figure size 1000x700 with 1 Axes>"
            ],
            "image/png": "[encoded data removed]"
          },
          "metadata": {}
        }
      ]
    },
    {
      "cell_type": "markdown",
      "source": [
        "# Building a model to train on the dataset\n",
        "\n",
        "* torch.nn -> Containes all of the buildings for computational graphs (a neural network can be considered a computational graph).\n",
        "\n",
        "* torch.nn.Parameter -> What parameters should our model try and learn, often a PyTorch layer from torch.nn will set these for us.\n",
        "\n",
        "* torch.nn.Module -> The base class for all neural network modules, if you subclass it, you should overwrite forward() method.\n",
        "\n",
        "* torch.optim -> This is where the optimizers in PyTorch live, they will help with gradient descent.\n",
        "\n",
        "* forward() -> All nn.Module subclasses require you to overwrite forward(), this method defines what happens in the forward computation."
      ],
      "metadata": {
        "id": "HyrQca2Nu7if"
      }
    },
    {
      "cell_type": "code",
      "source": [
        "# creating a Linear Regression model class\n",
        "class LinearRegressionModel(nn.Module):\n",
        "  def __init__(self):\n",
        "    super().__init__()\n",
        "    # requires_grad=True -> for updating this parameter by Gradient Descent\n",
        "    self.weights = nn.Parameter(torch.randn(1, requires_grad=True, dtype=torch.float))\n",
        "    self.bias = nn.Parameter(torch.randn(1, requires_grad=True, dtype=torch.float))\n",
        "\n",
        "  # forward method to define the computation in the model\n",
        "  def forward(self, x: torch.Tensor) -> torch.Tensor:\n",
        "    return self.weights * x + self.bias"
      ],
      "metadata": {
        "id": "1K1rAhOqvMxq"
      },
      "execution_count": 8,
      "outputs": []
    },
    {
      "cell_type": "code",
      "source": [
        "torch.manual_seed(42)\n",
        "\n",
        "# creating an instance of the model\n",
        "model_0 = LinearRegressionModel()\n",
        "\n",
        "# checkout the parameters\n",
        "list(model_0.parameters())"
      ],
      "metadata": {
        "colab": {
          "base_uri": "https://localhost:8080/"
        },
        "id": "9ZgxSbrt7JuQ",
        "outputId": "6bb1f0e3-2736-4428-c503-f1b5728a0532"
      },
      "execution_count": 9,
      "outputs": [
        {
          "output_type": "execute_result",
          "data": {
            "text/plain": [
              "[Parameter containing:\n",
              " tensor([0.3367], requires_grad=True),\n",
              " Parameter containing:\n",
              " tensor([0.1288], requires_grad=True)]"
            ]
          },
          "metadata": {},
          "execution_count": 9
        }
      ]
    },
    {
      "cell_type": "code",
      "source": [
        "model_0.state_dict()"
      ],
      "metadata": {
        "colab": {
          "base_uri": "https://localhost:8080/"
        },
        "id": "ksd-Nyc4-fCe",
        "outputId": "311de7a8-dc38-4404-d6eb-778247a65a6a"
      },
      "execution_count": 10,
      "outputs": [
        {
          "output_type": "execute_result",
          "data": {
            "text/plain": [
              "OrderedDict([('weights', tensor([0.3367])), ('bias', tensor([0.1288]))])"
            ]
          },
          "metadata": {},
          "execution_count": 10
        }
      ]
    },
    {
      "cell_type": "markdown",
      "source": [
        "# Making prediction using torch.inference_mode()\n",
        "\n",
        "To check our model's predictive prower, let's see how well it predicts y_test based on x_test.\n",
        "\n",
        "When we pass data through our model, it's going to run it through the forward() method."
      ],
      "metadata": {
        "id": "i_79kExmAgL2"
      }
    },
    {
      "cell_type": "code",
      "source": [
        "# make predictions with model\n",
        "# inference mode disables all the useful things that are available during training\n",
        "# another way to do the same thing is to use torch.no_grad()\n",
        "with torch.inference_mode():\n",
        "  y_preds = model_0(X_test)\n",
        "\n",
        "y_preds"
      ],
      "metadata": {
        "colab": {
          "base_uri": "https://localhost:8080/"
        },
        "id": "4H4eAUv8Afnu",
        "outputId": "bdbab3ce-b44a-40d0-9af1-a12bd2cceb8a"
      },
      "execution_count": 11,
      "outputs": [
        {
          "output_type": "execute_result",
          "data": {
            "text/plain": [
              "tensor([[0.3982],\n",
              "        [0.4049],\n",
              "        [0.4116],\n",
              "        [0.4184],\n",
              "        [0.4251],\n",
              "        [0.4318],\n",
              "        [0.4386],\n",
              "        [0.4453],\n",
              "        [0.4520],\n",
              "        [0.4588]])"
            ]
          },
          "metadata": {},
          "execution_count": 11
        }
      ]
    },
    {
      "cell_type": "code",
      "source": [
        "plot_predictions(predictions=y_preds)"
      ],
      "metadata": {
        "colab": {
          "base_uri": "https://localhost:8080/",
          "height": 599
        },
        "id": "p0qemOhRErjN",
        "outputId": "aea0f406-6052-4203-ba94-c06502239313"
      },
      "execution_count": 12,
      "outputs": [
        {
          "output_type": "display_data",
          "data": {
            "text/plain": [
              "<Figure size 1000x700 with 1 Axes>"
            ],
            "image/png": "[encoded data removed]"
          },
          "metadata": {}
        }
      ]
    },
    {
      "cell_type": "markdown",
      "source": [
        "# Training our model\n",
        "\n",
        "Things we need for training:\n",
        "\n",
        "* **Loss function:** A function to measure how wrong your model's predictions are to the real outputs, lower is better.\n",
        "\n",
        "* **Optimizer:** Takes into account the loss of the model and adjust the model's parameter (e.g. weights and biases).\n",
        "\n",
        "And specifically in PyTorch we need:\n",
        "\n",
        "* A training loop.\n",
        "* A testing loop."
      ],
      "metadata": {
        "id": "VQg1-inBYAYN"
      }
    },
    {
      "cell_type": "code",
      "source": [
        "# setting up a loss function\n",
        "loss_function = nn.L1Loss()\n",
        "\n",
        "# setting up a optimizer (Stochastic Gradient Descent)\n",
        "optimizer = torch.optim.SGD(params=model_0.parameters(),\n",
        "                            lr=0.01)"
      ],
      "metadata": {
        "id": "FAt8UDMVX_3r"
      },
      "execution_count": 13,
      "outputs": []
    },
    {
      "cell_type": "markdown",
      "source": [
        "## Building a training and testing loop\n",
        "\n",
        "0. Loop through the data.\n",
        "1. Forward pass (This involves data moving through our model;'s `forward()` functions) to make predictions on data - also called forward propagation.\n",
        "2. Calculate the loss (compare forward pass predictions to ground truth labels).\n",
        "3. Optimizer zero grad.\n",
        "4. Loss backward - move backwards through the network to calculate the gradients of each of the parameters of our model with respect to the loss.\n",
        "5. Optimizer step - use the optimizer to adjust our model's parameters to try and improve the loss."
      ],
      "metadata": {
        "id": "DUvEp2P7iQ9V"
      }
    },
    {
      "cell_type": "code",
      "source": [
        "epochs = 200\n",
        "\n",
        "# track different values\n",
        "epoch_count = []\n",
        "training_loss_values = []\n",
        "test_loss_values = []\n",
        "\n",
        "# training loop\n",
        "# 0. loop through the data\n",
        "for epoch in range(1 , epochs + 1):\n",
        "  # set the model to training mode\n",
        "  # train mode in PyTorch sets all parameters that require gradients to require gradients\n",
        "  model_0.train()\n",
        "\n",
        "  # 1. forward pass\n",
        "  y_pred = model_0(X_train)\n",
        "\n",
        "  # 2. calculate the training loss (nn.L1Loss())\n",
        "  training_loss = loss_function(y_pred, y_train)\n",
        "\n",
        "  # 3. optimizer zero grad\n",
        "  optimizer.zero_grad()\n",
        "\n",
        "  # 4. perform backpropagation on the loss with respect to the parameters of the model\n",
        "  training_loss.backward()\n",
        "\n",
        "  # 5. step the optimizer (perform gradient descent)\n",
        "  optimizer.step()\n",
        "\n",
        "  # truns off different settings in the model not needed for evaluation/testing (dropout/ batch-normalization)\n",
        "  model_0.eval()\n",
        "  with torch.inference_mode():  # turns off gradient tracking\n",
        "    # do the forward pass\n",
        "    test_pred = model_0(X_test)\n",
        "\n",
        "    # calculate the test loss\n",
        "    test_loss = loss_function(test_pred, y_test)\n",
        "\n",
        "  # printing whats happning\n",
        "  if epoch % 10 == 0:\n",
        "    epoch_count.append(epoch)\n",
        "    training_loss_values.append(training_loss)\n",
        "    test_loss_values.append(test_loss)\n",
        "\n",
        "    print(f\"Epoch: {epoch}/{epochs} | Training Loss: {training_loss: 0.4f} | Test Loss: {test_loss: 0.4f}\")\n",
        "    # print(model_0.state_dict())\n",
        "    print()"
      ],
      "metadata": {
        "colab": {
          "base_uri": "https://localhost:8080/"
        },
        "id": "1Uv7_vFEiVPg",
        "outputId": "b315bc03-cc88-4297-f371-4f407f44af5c"
      },
      "execution_count": 14,
      "outputs": [
        {
          "output_type": "stream",
          "name": "stdout",
          "text": [
            "Epoch: 10/200 | Training Loss:  0.2092 | Test Loss:  0.3598\n",
            "\n",
            "Epoch: 20/200 | Training Loss:  0.0968 | Test Loss:  0.2282\n",
            "\n",
            "Epoch: 30/200 | Training Loss:  0.0546 | Test Loss:  0.1497\n",
            "\n",
            "Epoch: 40/200 | Training Loss:  0.0459 | Test Loss:  0.1154\n",
            "\n",
            "Epoch: 50/200 | Training Loss:  0.0420 | Test Loss:  0.1003\n",
            "\n",
            "Epoch: 60/200 | Training Loss:  0.0385 | Test Loss:  0.0893\n",
            "\n",
            "Epoch: 70/200 | Training Loss:  0.0351 | Test Loss:  0.0810\n",
            "\n",
            "Epoch: 80/200 | Training Loss:  0.0317 | Test Loss:  0.0734\n",
            "\n",
            "Epoch: 90/200 | Training Loss:  0.0282 | Test Loss:  0.0652\n",
            "\n",
            "Epoch: 100/200 | Training Loss:  0.0248 | Test Loss:  0.0569\n",
            "\n",
            "Epoch: 110/200 | Training Loss:  0.0214 | Test Loss:  0.0493\n",
            "\n",
            "Epoch: 120/200 | Training Loss:  0.0179 | Test Loss:  0.0410\n",
            "\n",
            "Epoch: 130/200 | Training Loss:  0.0145 | Test Loss:  0.0334\n",
            "\n",
            "Epoch: 140/200 | Training Loss:  0.0111 | Test Loss:  0.0252\n",
            "\n",
            "Epoch: 150/200 | Training Loss:  0.0076 | Test Loss:  0.0169\n",
            "\n",
            "Epoch: 160/200 | Training Loss:  0.0042 | Test Loss:  0.0093\n",
            "\n",
            "Epoch: 170/200 | Training Loss:  0.0026 | Test Loss:  0.0084\n",
            "\n",
            "Epoch: 180/200 | Training Loss:  0.0026 | Test Loss:  0.0084\n",
            "\n",
            "Epoch: 190/200 | Training Loss:  0.0026 | Test Loss:  0.0084\n",
            "\n",
            "Epoch: 200/200 | Training Loss:  0.0026 | Test Loss:  0.0084\n",
            "\n"
          ]
        }
      ]
    },
    {
      "cell_type": "markdown",
      "source": [
        "## Plotting training curve"
      ],
      "metadata": {
        "id": "Axkksvh8XhVW"
      }
    },
    {
      "cell_type": "code",
      "source": [
        "# plot the loss curves\n",
        "plt.plot(epoch_count, torch.tensor(training_loss_values).numpy(), label='Train loss')\n",
        "plt.plot(epoch_count, torch.tensor(test_loss_values).numpy(), label='Test loss')\n",
        "plt.title(\"Training and test loss curves\")\n",
        "plt.ylabel('Loss')\n",
        "plt.xlabel(\"Epochs\")\n",
        "plt.legend()\n",
        "plt.show()"
      ],
      "metadata": {
        "colab": {
          "base_uri": "https://localhost:8080/",
          "height": 472
        },
        "id": "0sALSKJX1ANI",
        "outputId": "8a1afbdb-a527-4139-b6a7-a7a3b4994467"
      },
      "execution_count": 15,
      "outputs": [
        {
          "output_type": "display_data",
          "data": {
            "text/plain": [
              "<Figure size 640x480 with 1 Axes>"
            ],
            "image/png": "[encoded data removed]"
          },
          "metadata": {}
        }
      ]
    },
    {
      "cell_type": "markdown",
      "source": [
        "## Making predictions with our trained model"
      ],
      "metadata": {
        "id": "AR9jEfeJXp4o"
      }
    },
    {
      "cell_type": "code",
      "source": [
        "with torch.inference_mode():\n",
        "  y_preds_new = model_0(X_test)"
      ],
      "metadata": {
        "id": "Y8t3GHJFuF8w"
      },
      "execution_count": 16,
      "outputs": []
    },
    {
      "cell_type": "code",
      "source": [
        "print(model_0.state_dict())\n",
        "print(f\"Ideal weight: {weight} and Ideal bias: {bias}\")"
      ],
      "metadata": {
        "colab": {
          "base_uri": "https://localhost:8080/"
        },
        "id": "zdl32I-xvmZx",
        "outputId": "e37c4b4b-ccee-4bea-98c4-898b65ec8bbe"
      },
      "execution_count": 17,
      "outputs": [
        {
          "output_type": "stream",
          "name": "stdout",
          "text": [
            "OrderedDict([('weights', tensor([0.6990])), ('bias', tensor([0.3093]))])\n",
            "Ideal weight: 0.7 and Ideal bias: 0.3\n"
          ]
        }
      ]
    },
    {
      "cell_type": "code",
      "source": [
        "plot_predictions(predictions=y_preds_new)"
      ],
      "metadata": {
        "colab": {
          "base_uri": "https://localhost:8080/",
          "height": 599
        },
        "id": "kA98Xl0guS20",
        "outputId": "05c2fa4f-7904-400b-8b6c-e867c9dcf2b6"
      },
      "execution_count": 18,
      "outputs": [
        {
          "output_type": "display_data",
          "data": {
            "text/plain": [
              "<Figure size 1000x700 with 1 Axes>"
            ],
            "image/png": "[encoded data removed]"
          },
          "metadata": {}
        }
      ]
    },
    {
      "cell_type": "markdown",
      "source": [
        "# Saving a model in PyTorch\n",
        "\n",
        "1. `torch.save()` - allows us to save a PyTorch object in Python's pickle format.\n",
        "2. `torch.load()` - allows us to load a saved PyTorch object.\n",
        "3. `torch.nn.Module.load_state_dic()` - this allows to load a model's saved state dictionary."
      ],
      "metadata": {
        "id": "O1WL5uVYl4sk"
      }
    },
    {
      "cell_type": "code",
      "source": [
        "from pathlib import Path\n",
        "\n",
        "# create a models directory\n",
        "MODEL_PATH = Path('models')\n",
        "MODEL_PATH.mkdir(parents=True, exist_ok=True)\n",
        "\n",
        "# 2. create a model save path\n",
        "MODEL_NAME = \"01_pytorch_workflow_model_0.pth\"\n",
        "MODEL_SAVE_PATH = MODEL_PATH / MODEL_NAME\n",
        "MODEL_SAVE_PATH\n",
        "\n",
        "# save the model state dict\n",
        "print(f\"Saving model to: {MODEL_SAVE_PATH}\")\n",
        "torch.save(obj=model_0.state_dict(), f=MODEL_SAVE_PATH)"
      ],
      "metadata": {
        "colab": {
          "base_uri": "https://localhost:8080/"
        },
        "id": "RiqSPpEhl8UU",
        "outputId": "536b7e51-1386-4501-a01c-3d2b7c1c67e0"
      },
      "execution_count": 20,
      "outputs": [
        {
          "output_type": "stream",
          "name": "stdout",
          "text": [
            "Saving model to: models/01_pytorch_workflow_model_0.pth\n"
          ]
        }
      ]
    },
    {
      "cell_type": "code",
      "source": [
        "!ls -1 models"
      ],
      "metadata": {
        "colab": {
          "base_uri": "https://localhost:8080/"
        },
        "id": "cfwsi-od9SSP",
        "outputId": "5f79c976-dcc8-44e1-c7ee-3b8fd74bfe57"
      },
      "execution_count": 21,
      "outputs": [
        {
          "output_type": "stream",
          "name": "stdout",
          "text": [
            "01_pytorch_workflow_model_0.pth\n"
          ]
        }
      ]
    },
    {
      "cell_type": "code",
      "source": [
        "# loading back the saved model\n",
        "loaded_model_0 = LinearRegressionModel()\n",
        "loaded_model_0.load_state_dict(torch.load(MODEL_SAVE_PATH))\n",
        "loaded_model_0.eval()"
      ],
      "metadata": {
        "colab": {
          "base_uri": "https://localhost:8080/"
        },
        "id": "PoJrrw4t9Xji",
        "outputId": "a77d37e7-ccbe-4634-8db8-4ca3a0140b67"
      },
      "execution_count": 22,
      "outputs": [
        {
          "output_type": "execute_result",
          "data": {
            "text/plain": [
              "LinearRegressionModel()"
            ]
          },
          "metadata": {},
          "execution_count": 22
        }
      ]
    },
    {
      "cell_type": "code",
      "source": [
        "loaded_model_0.state_dict()"
      ],
      "metadata": {
        "colab": {
          "base_uri": "https://localhost:8080/"
        },
        "id": "8sHvW7Nd-j_c",
        "outputId": "532d6489-c9cd-461d-fbcb-ad1d51403012"
      },
      "execution_count": 23,
      "outputs": [
        {
          "output_type": "execute_result",
          "data": {
            "text/plain": [
              "OrderedDict([('weights', tensor([0.6990])), ('bias', tensor([0.3093]))])"
            ]
          },
          "metadata": {},
          "execution_count": 23
        }
      ]
    },
    {
      "cell_type": "code",
      "source": [
        "# making some predictions with the loaded model\n",
        "with torch.inference_mode():\n",
        "  loaded_model_preds = loaded_model_0(X_test)\n",
        "loaded_model_preds"
      ],
      "metadata": {
        "colab": {
          "base_uri": "https://localhost:8080/"
        },
        "id": "IVGdDe8F--iV",
        "outputId": "02888340-31ec-4ddd-9eb2-625946c880cf"
      },
      "execution_count": 24,
      "outputs": [
        {
          "output_type": "execute_result",
          "data": {
            "text/plain": [
              "tensor([[0.8685],\n",
              "        [0.8825],\n",
              "        [0.8965],\n",
              "        [0.9105],\n",
              "        [0.9245],\n",
              "        [0.9384],\n",
              "        [0.9524],\n",
              "        [0.9664],\n",
              "        [0.9804],\n",
              "        [0.9944]])"
            ]
          },
          "metadata": {},
          "execution_count": 24
        }
      ]
    },
    {
      "cell_type": "code",
      "source": [
        "y_preds_new == loaded_model_preds"
      ],
      "metadata": {
        "colab": {
          "base_uri": "https://localhost:8080/"
        },
        "id": "m48OvsbO_RH9",
        "outputId": "6eccbce0-f75a-4df2-b545-687c2a59b3c9"
      },
      "execution_count": 27,
      "outputs": [
        {
          "output_type": "execute_result",
          "data": {
            "text/plain": [
              "tensor([[True],\n",
              "        [True],\n",
              "        [True],\n",
              "        [True],\n",
              "        [True],\n",
              "        [True],\n",
              "        [True],\n",
              "        [True],\n",
              "        [True],\n",
              "        [True]])"
            ]
          },
          "metadata": {},
          "execution_count": 27
        }
      ]
    },
    {
      "cell_type": "markdown",
      "source": [
        "# Putting all the steps together that we have learned so far"
      ],
      "metadata": {
        "id": "04M-Ky3gAF7c"
      }
    },
    {
      "cell_type": "code",
      "source": [
        "import torch\n",
        "from torch import nn\n",
        "import numpy as np\n",
        "import matplotlib.pyplot as plt\n",
        "\n",
        "torch.__version__"
      ],
      "metadata": {
        "colab": {
          "base_uri": "https://localhost:8080/",
          "height": 36
        },
        "id": "VvaF74JsAPOZ",
        "outputId": "066842ce-d6ca-40b9-c6b2-5a6047446c42"
      },
      "execution_count": 28,
      "outputs": [
        {
          "output_type": "execute_result",
          "data": {
            "text/plain": [
              "'2.0.1+cu118'"
            ],
            "application/vnd.google.colaboratory.intrinsic+json": {
              "type": "string"
            }
          },
          "metadata": {},
          "execution_count": 28
        }
      ]
    },
    {
      "cell_type": "code",
      "source": [
        "# device agnostic code\n",
        "device = 'cuda' if torch.cuda.is_available() else 'cpu'\n",
        "print(f\"Using device: {device}\")"
      ],
      "metadata": {
        "colab": {
          "base_uri": "https://localhost:8080/"
        },
        "id": "GFWLLi4qAp-0",
        "outputId": "2ff23028-b0f3-4ac8-cb69-25bf29e97004"
      },
      "execution_count": 31,
      "outputs": [
        {
          "output_type": "stream",
          "name": "stdout",
          "text": [
            "Using device: cuda\n"
          ]
        }
      ]
    },
    {
      "cell_type": "code",
      "source": [
        "!nvidia-smi"
      ],
      "metadata": {
        "colab": {
          "base_uri": "https://localhost:8080/"
        },
        "id": "9jARU1J6BMh7",
        "outputId": "2146b6dd-917d-44a6-abef-7237993aaee0"
      },
      "execution_count": 32,
      "outputs": [
        {
          "output_type": "stream",
          "name": "stdout",
          "text": [
            "Mon Sep 18 06:41:09 2023       \n",
            "+-----------------------------------------------------------------------------+\n",
            "| NVIDIA-SMI 525.105.17   Driver Version: 525.105.17   CUDA Version: 12.0     |\n",
            "|-------------------------------+----------------------+----------------------+\n",
            "| GPU  Name        Persistence-M| Bus-Id        Disp.A | Volatile Uncorr. ECC |\n",
            "| Fan  Temp  Perf  Pwr:Usage/Cap|         Memory-Usage | GPU-Util  Compute M. |\n",
            "|                               |                      |               MIG M. |\n",
            "|===============================+======================+======================|\n",
            "|   0  Tesla T4            Off  | 00000000:00:04.0 Off |                    0 |\n",
            "| N/A   43C    P8    11W /  70W |      3MiB / 15360MiB |      0%      Default |\n",
            "|                               |                      |                  N/A |\n",
            "+-------------------------------+----------------------+----------------------+\n",
            "                                                                               \n",
            "+-----------------------------------------------------------------------------+\n",
            "| Processes:                                                                  |\n",
            "|  GPU   GI   CI        PID   Type   Process name                  GPU Memory |\n",
            "|        ID   ID                                                   Usage      |\n",
            "|=============================================================================|\n",
            "|  No running processes found                                                 |\n",
            "+-----------------------------------------------------------------------------+\n"
          ]
        }
      ]
    },
    {
      "cell_type": "markdown",
      "source": [
        "## Creating some data"
      ],
      "metadata": {
        "id": "YHDxqeLiBdwL"
      }
    },
    {
      "cell_type": "code",
      "source": [
        "# creating some data using the linear regresison formula of y = weight*X + bias\n",
        "weight = 0.7\n",
        "bias = 0.3\n",
        "\n",
        "# create range values\n",
        "X = torch.arange(0, 1, 0.02).unsqueeze(dim=1)\n",
        "y = weight * X + bias"
      ],
      "metadata": {
        "id": "_5ZMQsUnBdN6"
      },
      "execution_count": 35,
      "outputs": []
    },
    {
      "cell_type": "code",
      "source": [
        "X[:10], y[:10]"
      ],
      "metadata": {
        "colab": {
          "base_uri": "https://localhost:8080/"
        },
        "id": "PnLJW4N0Djqy",
        "outputId": "3ab45dbf-9740-4b7a-a32d-c8afca0eb2fd"
      },
      "execution_count": 36,
      "outputs": [
        {
          "output_type": "execute_result",
          "data": {
            "text/plain": [
              "(tensor([[0.0000],\n",
              "         [0.0200],\n",
              "         [0.0400],\n",
              "         [0.0600],\n",
              "         [0.0800],\n",
              "         [0.1000],\n",
              "         [0.1200],\n",
              "         [0.1400],\n",
              "         [0.1600],\n",
              "         [0.1800]]),\n",
              " tensor([[0.3000],\n",
              "         [0.3140],\n",
              "         [0.3280],\n",
              "         [0.3420],\n",
              "         [0.3560],\n",
              "         [0.3700],\n",
              "         [0.3840],\n",
              "         [0.3980],\n",
              "         [0.4120],\n",
              "         [0.4260]]))"
            ]
          },
          "metadata": {},
          "execution_count": 36
        }
      ]
    },
    {
      "cell_type": "code",
      "source": [
        "# spliting the data\n",
        "train_split = int(0.8 * len(X))\n",
        "X_train, y_train = X[:train_split], y[:train_split]\n",
        "X_test, y_test = X[train_split:], y[train_split:]\n",
        "len(X_train), len(y_train), len(X_test), len(y_test)"
      ],
      "metadata": {
        "colab": {
          "base_uri": "https://localhost:8080/"
        },
        "id": "BoejdU95DrCv",
        "outputId": "2a73256b-cd6a-449a-a2f8-887e9b9fa3e3"
      },
      "execution_count": 37,
      "outputs": [
        {
          "output_type": "execute_result",
          "data": {
            "text/plain": [
              "(40, 40, 10, 10)"
            ]
          },
          "metadata": {},
          "execution_count": 37
        }
      ]
    },
    {
      "cell_type": "code",
      "source": [
        "# plot the data\n",
        "plot_predictions(X_train, y_train, X_test, y_test)"
      ],
      "metadata": {
        "colab": {
          "base_uri": "https://localhost:8080/",
          "height": 599
        },
        "id": "Nu7Z_G4IEW6S",
        "outputId": "3c0aa51a-5acb-4ac7-b019-fbb3e6b1283f"
      },
      "execution_count": 38,
      "outputs": [
        {
          "output_type": "display_data",
          "data": {
            "text/plain": [
              "<Figure size 1000x700 with 1 Axes>"
            ],
            "image/png": "[encoded data removed]"
          },
          "metadata": {}
        }
      ]
    },
    {
      "cell_type": "markdown",
      "source": [
        "## Building a model class"
      ],
      "metadata": {
        "id": "_9pxFJx4FClS"
      }
    },
    {
      "cell_type": "code",
      "source": [
        "class LinReg(nn.Module):\n",
        "  def __init__(self):\n",
        "    super().__init__()\n",
        "    self.linear_layer = nn.Linear(in_features=1, out_features=1)\n",
        "\n",
        "  def forward(self, x: torch.Tensor) -> torch.Tensor:\n",
        "    return self.linear_layer(x)"
      ],
      "metadata": {
        "id": "PU6EGgyVFBhS"
      },
      "execution_count": 42,
      "outputs": []
    },
    {
      "cell_type": "code",
      "source": [
        "torch.manual_seed(42)\n",
        "# initializing the mode\n",
        "model = LinReg()\n",
        "model.state_dict()"
      ],
      "metadata": {
        "colab": {
          "base_uri": "https://localhost:8080/"
        },
        "id": "x-_DlaTGMUC0",
        "outputId": "24cb0e4c-2f86-454c-80c3-ca46e4c5b6be"
      },
      "execution_count": 50,
      "outputs": [
        {
          "output_type": "execute_result",
          "data": {
            "text/plain": [
              "OrderedDict([('linear_layer.weight', tensor([[0.7645]])),\n",
              "             ('linear_layer.bias', tensor([0.8300]))])"
            ]
          },
          "metadata": {},
          "execution_count": 50
        }
      ]
    },
    {
      "cell_type": "code",
      "source": [
        "# check the model current device\n",
        "next(model.parameters()).device"
      ],
      "metadata": {
        "colab": {
          "base_uri": "https://localhost:8080/"
        },
        "id": "H663KX7vOacy",
        "outputId": "fb9cbc7e-9b00-4cac-cd43-49ffca0d4ae8"
      },
      "execution_count": 51,
      "outputs": [
        {
          "output_type": "execute_result",
          "data": {
            "text/plain": [
              "device(type='cpu')"
            ]
          },
          "metadata": {},
          "execution_count": 51
        }
      ]
    },
    {
      "cell_type": "code",
      "source": [
        "model.to(device)\n",
        "next(model.parameters()).device"
      ],
      "metadata": {
        "colab": {
          "base_uri": "https://localhost:8080/"
        },
        "id": "fIzgt4szOlSB",
        "outputId": "7c01a346-12dd-42cf-a1f3-4711df57cd0e"
      },
      "execution_count": 52,
      "outputs": [
        {
          "output_type": "execute_result",
          "data": {
            "text/plain": [
              "device(type='cuda', index=0)"
            ]
          },
          "metadata": {},
          "execution_count": 52
        }
      ]
    },
    {
      "cell_type": "markdown",
      "source": [
        "## Training and testing loop"
      ],
      "metadata": {
        "id": "5VVtbJVIO1Di"
      }
    },
    {
      "cell_type": "code",
      "source": [
        "# setup loss function\n",
        "loss_fn = nn.L1Loss()\n",
        "\n",
        "# setup optimizer\n",
        "optimizer = torch.optim.SGD(params=model.parameters(), lr=0.01)"
      ],
      "metadata": {
        "id": "awXxxm3wO6gy"
      },
      "execution_count": 53,
      "outputs": []
    },
    {
      "cell_type": "code",
      "source": [
        "torch.manual_seed(42)\n",
        "# setting hyperparameter\n",
        "epochs = 200\n",
        "\n",
        "# putting our data into the target device\n",
        "X_train = X_train.to(device)\n",
        "y_train = y_train.to(device)\n",
        "X_test = X_test.to(device)\n",
        "y_test = y_test.to(device)\n",
        "\n",
        "# for saving training result\n",
        "epoch_count_trace = []\n",
        "train_loss_trace = []\n",
        "test_loss_trace = []\n",
        "\n",
        "# training loop\n",
        "for epoch in range(1, epochs + 1):\n",
        "  # setting training mode\n",
        "  model.train()\n",
        "\n",
        "  # forward pass\n",
        "  y_preds = model(X_train)\n",
        "\n",
        "  # training loss\n",
        "  loss = loss_fn(y_preds, y_train)\n",
        "\n",
        "  # backpropagation\n",
        "  optimizer.zero_grad()\n",
        "  loss.backward()\n",
        "  optimizer.step()\n",
        "\n",
        "  # turning off settings that are required for training\n",
        "  model.eval()\n",
        "  with torch.inference_mode():\n",
        "    test_preds = model(X_test)\n",
        "    test_loss = loss_function(test_preds, y_test)\n",
        "\n",
        "  if epoch % 10 == 0:\n",
        "    epoch_count_trace.append(epoch)\n",
        "    train_loss_trace.append(loss)\n",
        "    test_loss_trace.append(test_loss)\n",
        "    print(f\"Epoch: {epoch} | {epochs} || Training loss - {loss: 0.4f} || Test loss - {test_loss: 0.4f}\")\n",
        "    print()"
      ],
      "metadata": {
        "colab": {
          "base_uri": "https://localhost:8080/"
        },
        "id": "eUmUE6HjKkKa",
        "outputId": "da9345c1-a92d-4f66-f9b0-f7bcb985ec0e"
      },
      "execution_count": 54,
      "outputs": [
        {
          "output_type": "stream",
          "name": "stdout",
          "text": [
            "Epoch: 10 | 200 || Training loss -  0.4515 || Test loss -  0.4527\n",
            "\n",
            "Epoch: 20 | 200 || Training loss -  0.3363 || Test loss -  0.3180\n",
            "\n",
            "Epoch: 30 | 200 || Training loss -  0.2211 || Test loss -  0.1833\n",
            "\n",
            "Epoch: 40 | 200 || Training loss -  0.1059 || Test loss -  0.0486\n",
            "\n",
            "Epoch: 50 | 200 || Training loss -  0.0247 || Test loss -  0.0469\n",
            "\n",
            "Epoch: 60 | 200 || Training loss -  0.0203 || Test loss -  0.0469\n",
            "\n",
            "Epoch: 70 | 200 || Training loss -  0.0169 || Test loss -  0.0386\n",
            "\n",
            "Epoch: 80 | 200 || Training loss -  0.0134 || Test loss -  0.0304\n",
            "\n",
            "Epoch: 90 | 200 || Training loss -  0.0100 || Test loss -  0.0228\n",
            "\n",
            "Epoch: 100 | 200 || Training loss -  0.0066 || Test loss -  0.0145\n",
            "\n",
            "Epoch: 110 | 200 || Training loss -  0.0031 || Test loss -  0.0062\n",
            "\n",
            "Epoch: 120 | 200 || Training loss -  0.0103 || Test loss -  0.0003\n",
            "\n",
            "Epoch: 130 | 200 || Training loss -  0.0103 || Test loss -  0.0003\n",
            "\n",
            "Epoch: 140 | 200 || Training loss -  0.0103 || Test loss -  0.0003\n",
            "\n",
            "Epoch: 150 | 200 || Training loss -  0.0103 || Test loss -  0.0003\n",
            "\n",
            "Epoch: 160 | 200 || Training loss -  0.0103 || Test loss -  0.0003\n",
            "\n",
            "Epoch: 170 | 200 || Training loss -  0.0103 || Test loss -  0.0003\n",
            "\n",
            "Epoch: 180 | 200 || Training loss -  0.0103 || Test loss -  0.0003\n",
            "\n",
            "Epoch: 190 | 200 || Training loss -  0.0103 || Test loss -  0.0003\n",
            "\n",
            "Epoch: 200 | 200 || Training loss -  0.0103 || Test loss -  0.0003\n",
            "\n"
          ]
        }
      ]
    },
    {
      "cell_type": "code",
      "source": [
        "model.state_dict()"
      ],
      "metadata": {
        "colab": {
          "base_uri": "https://localhost:8080/"
        },
        "id": "r4QuMyaZRstR",
        "outputId": "bdcfefa8-84f9-4f0d-8e57-f64d257c5069"
      },
      "execution_count": 56,
      "outputs": [
        {
          "output_type": "execute_result",
          "data": {
            "text/plain": [
              "OrderedDict([('linear_layer.weight', tensor([[0.6968]], device='cuda:0')),\n",
              "             ('linear_layer.bias', tensor([0.3025], device='cuda:0'))])"
            ]
          },
          "metadata": {},
          "execution_count": 56
        }
      ]
    },
    {
      "cell_type": "markdown",
      "source": [
        "## Making some predictions with our trained model"
      ],
      "metadata": {
        "id": "ALNTE9sWSGl0"
      }
    },
    {
      "cell_type": "code",
      "source": [
        "model.eval()\n",
        "with torch.inference_mode():\n",
        "  y_preds_new = model(X_test)"
      ],
      "metadata": {
        "id": "H_fQ0tl-SYRy"
      },
      "execution_count": 63,
      "outputs": []
    },
    {
      "cell_type": "code",
      "source": [
        "loss_fn(y_preds_new, y_test)"
      ],
      "metadata": {
        "colab": {
          "base_uri": "https://localhost:8080/"
        },
        "id": "WpcvUcmQSg3s",
        "outputId": "ba9bc0b1-49f9-478b-fa43-bafcdd51d61c"
      },
      "execution_count": 58,
      "outputs": [
        {
          "output_type": "execute_result",
          "data": {
            "text/plain": [
              "tensor(0.0003, device='cuda:0', grad_fn=<MeanBackward0>)"
            ]
          },
          "metadata": {},
          "execution_count": 58
        }
      ]
    },
    {
      "cell_type": "code",
      "source": [
        "plot_predictions(predictions = y_preds_new.cpu())"
      ],
      "metadata": {
        "colab": {
          "base_uri": "https://localhost:8080/",
          "height": 599
        },
        "id": "2ugRqo8QSdtS",
        "outputId": "e0d3b10c-b15d-462e-ba27-671ab838a27d"
      },
      "execution_count": 64,
      "outputs": [
        {
          "output_type": "display_data",
          "data": {
            "text/plain": [
              "<Figure size 1000x700 with 1 Axes>"
            ],
            "image/png": "[encoded data removed]"
          },
          "metadata": {}
        }
      ]
    },
    {
      "cell_type": "markdown",
      "source": [
        "## Plotting training curve"
      ],
      "metadata": {
        "id": "N7H0eohzUWXb"
      }
    },
    {
      "cell_type": "code",
      "source": [
        "# plot the loss curves\n",
        "plt.plot(epoch_count_trace, torch.tensor(train_loss_trace).numpy(), label='Train loss')\n",
        "plt.plot(epoch_count_trace, torch.tensor(test_loss_trace).numpy(), label='Test loss')\n",
        "plt.title(\"Training and test loss curves\")\n",
        "plt.ylabel('Loss')\n",
        "plt.xlabel(\"Epochs\")\n",
        "plt.legend()\n",
        "plt.show()"
      ],
      "metadata": {
        "colab": {
          "base_uri": "https://localhost:8080/",
          "height": 472
        },
        "id": "aSNQYNGMUZmK",
        "outputId": "c51cb5ab-e30e-427d-a8bb-2477ee41bb0c"
      },
      "execution_count": 65,
      "outputs": [
        {
          "output_type": "display_data",
          "data": {
            "text/plain": [
              "<Figure size 640x480 with 1 Axes>"
            ],
            "image/png": "[encoded data removed]"
          },
          "metadata": {}
        }
      ]
    }
  ]
}