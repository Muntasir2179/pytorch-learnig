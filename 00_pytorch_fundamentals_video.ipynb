{
  "nbformat": 4,
  "nbformat_minor": 0,
  "metadata": {
    "colab": {
      "provenance": [],
      "toc_visible": true,
      "gpuType": "T4",
      "authorship_tag": "ABX9TyN/lnOxZoV4Z9rzarrOffPc",
      "include_colab_link": true
    },
    "kernelspec": {
      "name": "python3",
      "display_name": "Python 3"
    },
    "language_info": {
      "name": "python"
    },
    "accelerator": "GPU"
  },
  "cells": [
    {
      "cell_type": "markdown",
      "metadata": {
        "id": "view-in-github",
        "colab_type": "text"
      },
      "source": [
        "<a href=\"https://colab.research.google.com/github/Muntasir2179/pytorch-learnig/blob/tensors/00_pytorch_fundamentals_video.ipynb\" target=\"_parent\"><img src=\"https://colab.research.google.com/assets/colab-badge.svg\" alt=\"Open In Colab\"/></a>"
      ]
    },
    {
      "cell_type": "markdown",
      "source": [
        "# Importing Libraries"
      ],
      "metadata": {
        "id": "P6wTTLoeVBSO"
      }
    },
    {
      "cell_type": "code",
      "source": [
        "import torch\n",
        "import pandas as pd\n",
        "import numpy as np\n",
        "import matplotlib.pyplot as plt\n",
        "print(torch.__version__)"
      ],
      "metadata": {
        "colab": {
          "base_uri": "https://localhost:8080/"
        },
        "id": "jVOKT_JrOJiK",
        "outputId": "5ad9118c-60d0-4fc3-9895-3a8c8d6508e6"
      },
      "execution_count": 1,
      "outputs": [
        {
          "output_type": "stream",
          "name": "stdout",
          "text": [
            "2.0.1+cu118\n"
          ]
        }
      ]
    },
    {
      "cell_type": "markdown",
      "source": [
        "# Pytorch Tensors"
      ],
      "metadata": {
        "id": "ycHth6XHVEu_"
      }
    },
    {
      "cell_type": "code",
      "source": [
        "# scalar\n",
        "scaler = torch.tensor([[1,2,3],[4,5,6]])\n",
        "scaler, scaler.ndim, scaler.shape"
      ],
      "metadata": {
        "colab": {
          "base_uri": "https://localhost:8080/"
        },
        "id": "FhaPfSX_VL0P",
        "outputId": "d48d0e44-3619-42ea-c183-522df2c20dc4"
      },
      "execution_count": 2,
      "outputs": [
        {
          "output_type": "execute_result",
          "data": {
            "text/plain": [
              "(tensor([[1, 2, 3],\n",
              "         [4, 5, 6]]),\n",
              " 2,\n",
              " torch.Size([2, 3]))"
            ]
          },
          "metadata": {},
          "execution_count": 2
        }
      ]
    },
    {
      "cell_type": "code",
      "source": [
        "# let's create a matrix\n",
        "matrix = torch.tensor([[7, 8, 9],\n",
        "                       [9, 10, 11],\n",
        "                       [1, 2, 3]])\n",
        "matrix.ndim, matrix.shape"
      ],
      "metadata": {
        "colab": {
          "base_uri": "https://localhost:8080/"
        },
        "id": "8niDn_P-XAia",
        "outputId": "ed43ea9d-1109-4697-8f34-675fded1fe8f"
      },
      "execution_count": 3,
      "outputs": [
        {
          "output_type": "execute_result",
          "data": {
            "text/plain": [
              "(2, torch.Size([3, 3]))"
            ]
          },
          "metadata": {},
          "execution_count": 3
        }
      ]
    },
    {
      "cell_type": "code",
      "source": [
        "matrix[0], matrix[1], matrix[2]"
      ],
      "metadata": {
        "colab": {
          "base_uri": "https://localhost:8080/"
        },
        "id": "fZJ-FQlnXlEW",
        "outputId": "7993d2bf-88c0-4880-ae58-7347d29b0256"
      },
      "execution_count": 4,
      "outputs": [
        {
          "output_type": "execute_result",
          "data": {
            "text/plain": [
              "(tensor([7, 8, 9]), tensor([ 9, 10, 11]), tensor([1, 2, 3]))"
            ]
          },
          "metadata": {},
          "execution_count": 4
        }
      ]
    },
    {
      "cell_type": "code",
      "source": [
        "tensor = torch.tensor([[[1, 2, 3],\n",
        "                        [4, 5, 6],\n",
        "                        [7, 8, 9]]])\n",
        "\n",
        "tensor"
      ],
      "metadata": {
        "colab": {
          "base_uri": "https://localhost:8080/"
        },
        "id": "YUdqSPhAX65O",
        "outputId": "683039c2-ef50-4ae8-8b44-677fabf7e155"
      },
      "execution_count": 5,
      "outputs": [
        {
          "output_type": "execute_result",
          "data": {
            "text/plain": [
              "tensor([[[1, 2, 3],\n",
              "         [4, 5, 6],\n",
              "         [7, 8, 9]]])"
            ]
          },
          "metadata": {},
          "execution_count": 5
        }
      ]
    },
    {
      "cell_type": "code",
      "source": [
        "tensor.ndim, tensor.shape"
      ],
      "metadata": {
        "colab": {
          "base_uri": "https://localhost:8080/"
        },
        "id": "EA93KbwlYJho",
        "outputId": "b973910e-d33a-49ad-c184-a8ea23d6f9ef"
      },
      "execution_count": 6,
      "outputs": [
        {
          "output_type": "execute_result",
          "data": {
            "text/plain": [
              "(3, torch.Size([1, 3, 3]))"
            ]
          },
          "metadata": {},
          "execution_count": 6
        }
      ]
    },
    {
      "cell_type": "markdown",
      "source": [
        "## Random Tensors\n",
        "\n",
        "Random tensors are imoprtant because the way many neural networks learn in that they start with tensors full of random numbers and then adjust those random numbers to better represent the data\n",
        "\n",
        "`start with random numbers -> look at data -> undate random numbers -> look at data -> update random numbers`"
      ],
      "metadata": {
        "id": "ND5Vi_YhdHKh"
      }
    },
    {
      "cell_type": "code",
      "source": [
        "# creating a random tensor of size (3, 4)\n",
        "random_tensor = torch.rand(3, 4)\n",
        "random_tensor"
      ],
      "metadata": {
        "colab": {
          "base_uri": "https://localhost:8080/"
        },
        "id": "hjbKfsDadsqh",
        "outputId": "23777482-b12b-47fc-b85b-2d1f674876c1"
      },
      "execution_count": 7,
      "outputs": [
        {
          "output_type": "execute_result",
          "data": {
            "text/plain": [
              "tensor([[0.4422, 0.3609, 0.0668, 0.8657],\n",
              "        [0.1477, 0.1009, 0.9146, 0.0923],\n",
              "        [0.5931, 0.6428, 0.4759, 0.6444]])"
            ]
          },
          "metadata": {},
          "execution_count": 7
        }
      ]
    },
    {
      "cell_type": "code",
      "source": [
        "# create a random tensor with similar shape to an image tensor\n",
        "random_image_size_tensor = torch.rand(size=(3, 224, 224))\n",
        "random_image_size_tensor.shape, random_image_size_tensor.ndim"
      ],
      "metadata": {
        "colab": {
          "base_uri": "https://localhost:8080/"
        },
        "id": "j2i5d3zreYKI",
        "outputId": "a1099e66-321c-4040-bffc-14eb81d72a1c"
      },
      "execution_count": 8,
      "outputs": [
        {
          "output_type": "execute_result",
          "data": {
            "text/plain": [
              "(torch.Size([3, 224, 224]), 3)"
            ]
          },
          "metadata": {},
          "execution_count": 8
        }
      ]
    },
    {
      "cell_type": "markdown",
      "source": [
        "## Tensor with zeros and ones"
      ],
      "metadata": {
        "id": "hgRbZarEfuvA"
      }
    },
    {
      "cell_type": "code",
      "source": [
        "zero_tesnor = torch.zeros(size=(3, 2))\n",
        "zero_tesnor"
      ],
      "metadata": {
        "colab": {
          "base_uri": "https://localhost:8080/"
        },
        "id": "_v2Q9iHxfx36",
        "outputId": "88697cec-bbcc-41d8-9ebd-404b4336eb1a"
      },
      "execution_count": 9,
      "outputs": [
        {
          "output_type": "execute_result",
          "data": {
            "text/plain": [
              "tensor([[0., 0.],\n",
              "        [0., 0.],\n",
              "        [0., 0.]])"
            ]
          },
          "metadata": {},
          "execution_count": 9
        }
      ]
    },
    {
      "cell_type": "code",
      "source": [
        "ones_tensor = torch.ones(size=(3, 4))\n",
        "ones_tensor"
      ],
      "metadata": {
        "colab": {
          "base_uri": "https://localhost:8080/"
        },
        "id": "TvkiY0sKf58B",
        "outputId": "b8c44167-f1b1-4f6a-8b3e-bdb54c5ab1d3"
      },
      "execution_count": 10,
      "outputs": [
        {
          "output_type": "execute_result",
          "data": {
            "text/plain": [
              "tensor([[1., 1., 1., 1.],\n",
              "        [1., 1., 1., 1.],\n",
              "        [1., 1., 1., 1.]])"
            ]
          },
          "metadata": {},
          "execution_count": 10
        }
      ]
    },
    {
      "cell_type": "code",
      "source": [
        "ones_tensor.dtype"
      ],
      "metadata": {
        "colab": {
          "base_uri": "https://localhost:8080/"
        },
        "id": "ihG8sDhdgCvA",
        "outputId": "80bb2d38-d800-4a35-ed97-1ac4dd8817ce"
      },
      "execution_count": 11,
      "outputs": [
        {
          "output_type": "execute_result",
          "data": {
            "text/plain": [
              "torch.float32"
            ]
          },
          "metadata": {},
          "execution_count": 11
        }
      ]
    },
    {
      "cell_type": "markdown",
      "source": [
        "## Range of tensors and tensors-like"
      ],
      "metadata": {
        "id": "3RPK6n57gUK5"
      }
    },
    {
      "cell_type": "code",
      "source": [
        "# use torch.arange()\n",
        "one_to_ten = torch.arange(1, 11)\n",
        "one_to_ten"
      ],
      "metadata": {
        "colab": {
          "base_uri": "https://localhost:8080/"
        },
        "id": "lCNyRhl-gXyB",
        "outputId": "4438c566-a399-4450-87de-020e2634cd02"
      },
      "execution_count": 12,
      "outputs": [
        {
          "output_type": "execute_result",
          "data": {
            "text/plain": [
              "tensor([ 1,  2,  3,  4,  5,  6,  7,  8,  9, 10])"
            ]
          },
          "metadata": {},
          "execution_count": 12
        }
      ]
    },
    {
      "cell_type": "code",
      "source": [
        "# creating tensors like\n",
        "ten_zeros = torch.zeros_like(input=one_to_ten)\n",
        "ten_zeros"
      ],
      "metadata": {
        "colab": {
          "base_uri": "https://localhost:8080/"
        },
        "id": "7G1uGKkVhho4",
        "outputId": "87c6daae-d381-45ed-9ca5-45328c9061f7"
      },
      "execution_count": 13,
      "outputs": [
        {
          "output_type": "execute_result",
          "data": {
            "text/plain": [
              "tensor([0, 0, 0, 0, 0, 0, 0, 0, 0, 0])"
            ]
          },
          "metadata": {},
          "execution_count": 13
        }
      ]
    },
    {
      "cell_type": "markdown",
      "source": [
        "## Tensor Data Types\n",
        "\n",
        "**NOTE:** Tensor datatypes is one of the three big errors we will find while run into with PyTorch and Deep Learning.\n",
        "\n",
        "1. Tensors not right datatypes.\n",
        "2. Tensors not right shape.\n",
        "3. Tenosrs not on right device."
      ],
      "metadata": {
        "id": "3MFHLNzniFAZ"
      }
    },
    {
      "cell_type": "code",
      "source": [
        "float_32_tensor = torch.tensor([3.0, 6.0, 9.0],\n",
        "                               dtype=None,  # what data type is tensor (float16, float32, float64, int16, int32, int64)\n",
        "                               device=None,        # what device is the tensor on\n",
        "                               requires_grad=False)  # whether or not to track gradients with this tensor operaitons\n",
        "float_32_tensor"
      ],
      "metadata": {
        "colab": {
          "base_uri": "https://localhost:8080/"
        },
        "id": "cBXrrEBliEMo",
        "outputId": "17b0e1ed-c6d8-4798-c401-29b18c95445c"
      },
      "execution_count": 14,
      "outputs": [
        {
          "output_type": "execute_result",
          "data": {
            "text/plain": [
              "tensor([3., 6., 9.])"
            ]
          },
          "metadata": {},
          "execution_count": 14
        }
      ]
    },
    {
      "cell_type": "code",
      "source": [
        "float_32_tensor.dtype"
      ],
      "metadata": {
        "colab": {
          "base_uri": "https://localhost:8080/"
        },
        "id": "X6li5uWQldIZ",
        "outputId": "c6d134ff-dc18-4c55-eec6-a1547293e5c3"
      },
      "execution_count": 15,
      "outputs": [
        {
          "output_type": "execute_result",
          "data": {
            "text/plain": [
              "torch.float32"
            ]
          },
          "metadata": {},
          "execution_count": 15
        }
      ]
    },
    {
      "cell_type": "code",
      "source": [
        "# changing the tensor datatype\n",
        "converted_float_16 = float_32_tensor.type(torch.float16)\n",
        "converted_float_16"
      ],
      "metadata": {
        "colab": {
          "base_uri": "https://localhost:8080/"
        },
        "id": "f-0hMEbzlC8U",
        "outputId": "5bd6fb2f-5d9a-460b-9e1d-a0d4d73920ca"
      },
      "execution_count": 16,
      "outputs": [
        {
          "output_type": "execute_result",
          "data": {
            "text/plain": [
              "tensor([3., 6., 9.], dtype=torch.float16)"
            ]
          },
          "metadata": {},
          "execution_count": 16
        }
      ]
    },
    {
      "cell_type": "markdown",
      "source": [
        "## Getting information from tensors\n",
        "\n",
        "1. Tensors not right datatype - to do get datatype from a tensor, can use `tensor.dtype`\n",
        "2. Tensor not right shape - to get shape from a tensor, we can use `tensor.shape`\n",
        "3. Tensor not on the right device - to get device from a tensor, can use `tensor.device`"
      ],
      "metadata": {
        "id": "galahJDPqcqt"
      }
    },
    {
      "cell_type": "code",
      "source": [
        "some_tensor = torch.rand(3, 4)\n",
        "some_tensor"
      ],
      "metadata": {
        "colab": {
          "base_uri": "https://localhost:8080/"
        },
        "id": "DuhuZACbqbZR",
        "outputId": "0fd00fbe-d444-4be6-cb4f-ebe109bdb572"
      },
      "execution_count": 17,
      "outputs": [
        {
          "output_type": "execute_result",
          "data": {
            "text/plain": [
              "tensor([[0.2962, 0.2918, 0.4420, 0.7476],\n",
              "        [0.8918, 0.6502, 0.0869, 0.4767],\n",
              "        [0.2226, 0.2464, 0.7809, 0.5826]])"
            ]
          },
          "metadata": {},
          "execution_count": 17
        }
      ]
    },
    {
      "cell_type": "code",
      "source": [
        "# find out details about some tensor\n",
        "print(some_tensor)\n",
        "print(f\"Datatype of tensor: {some_tensor.dtype}\")\n",
        "print(f\"Shape of tensor: {some_tensor.size()}\")\n",
        "print(f\"Device tensor is on: {some_tensor.device}\")"
      ],
      "metadata": {
        "colab": {
          "base_uri": "https://localhost:8080/"
        },
        "id": "IyYa82r8sF66",
        "outputId": "2d00ca67-8fa4-4799-9da2-c5de39455a7d"
      },
      "execution_count": 18,
      "outputs": [
        {
          "output_type": "stream",
          "name": "stdout",
          "text": [
            "tensor([[0.2962, 0.2918, 0.4420, 0.7476],\n",
            "        [0.8918, 0.6502, 0.0869, 0.4767],\n",
            "        [0.2226, 0.2464, 0.7809, 0.5826]])\n",
            "Datatype of tensor: torch.float32\n",
            "Shape of tensor: torch.Size([3, 4])\n",
            "Device tensor is on: cpu\n"
          ]
        }
      ]
    },
    {
      "cell_type": "markdown",
      "source": [
        "## Mathemetical operations with tensor\n",
        "\n",
        "Tensor operations include:\n",
        "\n",
        "* Addition\n",
        "* Subtraction\n",
        "* Multiplication\n",
        "* Division\n",
        "* Matrix multiplication"
      ],
      "metadata": {
        "id": "o1OWLLu6pKDb"
      }
    },
    {
      "cell_type": "code",
      "source": [
        "# addition of tensor\n",
        "tensor_1 = torch.tensor([1, 2, 3])\n",
        "tensor_2 = torch.tensor([4, 5, 6])\n",
        "tensor_1 + tensor_2, torch.add(tensor_1, tensor_2)"
      ],
      "metadata": {
        "colab": {
          "base_uri": "https://localhost:8080/"
        },
        "id": "0zmNcLGxt_UK",
        "outputId": "dfae5f91-30b3-4e1f-f066-2ea531975b7c"
      },
      "execution_count": 19,
      "outputs": [
        {
          "output_type": "execute_result",
          "data": {
            "text/plain": [
              "(tensor([5, 7, 9]), tensor([5, 7, 9]))"
            ]
          },
          "metadata": {},
          "execution_count": 19
        }
      ]
    },
    {
      "cell_type": "code",
      "source": [
        "# subtraction with tensor\n",
        "tensor_1 - tensor_2, torch.subtract(tensor_1, tensor_2), torch.sub(tensor_1, tensor_2)"
      ],
      "metadata": {
        "colab": {
          "base_uri": "https://localhost:8080/"
        },
        "id": "MJswfG_4vBEi",
        "outputId": "ffdfb3ee-4071-4e5d-dc3c-2e3f9c3396b6"
      },
      "execution_count": 20,
      "outputs": [
        {
          "output_type": "execute_result",
          "data": {
            "text/plain": [
              "(tensor([-3, -3, -3]), tensor([-3, -3, -3]), tensor([-3, -3, -3]))"
            ]
          },
          "metadata": {},
          "execution_count": 20
        }
      ]
    },
    {
      "cell_type": "code",
      "source": [
        "# multiplication with tensor\n",
        "tensor_1 * tensor_2, torch.mul(tensor_1, tensor_2), torch.multiply(tensor_1, tensor_2)"
      ],
      "metadata": {
        "colab": {
          "base_uri": "https://localhost:8080/"
        },
        "id": "IFZQF-kxutba",
        "outputId": "922c8fae-92da-47df-e407-df36ac3399f0"
      },
      "execution_count": 21,
      "outputs": [
        {
          "output_type": "execute_result",
          "data": {
            "text/plain": [
              "(tensor([ 4, 10, 18]), tensor([ 4, 10, 18]), tensor([ 4, 10, 18]))"
            ]
          },
          "metadata": {},
          "execution_count": 21
        }
      ]
    },
    {
      "cell_type": "code",
      "source": [
        "# division with tensor\n",
        "tensor_2 / tensor_1, torch.div(tensor_2, tensor_1), torch.divide(tensor_2, tensor_1)"
      ],
      "metadata": {
        "colab": {
          "base_uri": "https://localhost:8080/"
        },
        "id": "CbFs0qr9u1C2",
        "outputId": "e9f13f7e-7d89-42a4-b44e-705b89173b4b"
      },
      "execution_count": 22,
      "outputs": [
        {
          "output_type": "execute_result",
          "data": {
            "text/plain": [
              "(tensor([4.0000, 2.5000, 2.0000]),\n",
              " tensor([4.0000, 2.5000, 2.0000]),\n",
              " tensor([4.0000, 2.5000, 2.0000]))"
            ]
          },
          "metadata": {},
          "execution_count": 22
        }
      ]
    },
    {
      "cell_type": "markdown",
      "source": [
        "## Matrix multiplication\n",
        "\n",
        "1. Element wise multiplication.\n",
        "2. Matrix multiplication."
      ],
      "metadata": {
        "id": "CLYSoG2Ug_zr"
      }
    },
    {
      "cell_type": "code",
      "source": [
        "# matrix multiplication\n",
        "matrix_1 = torch.tensor([[1, 2, 3],\n",
        "                         [2, 3, 4],\n",
        "                         [3, 4, 5]])\n",
        "matrix_2 = torch.tensor([1, 2, 3])\n",
        "\n",
        "torch.matmul(matrix_1, matrix_2)"
      ],
      "metadata": {
        "colab": {
          "base_uri": "https://localhost:8080/"
        },
        "id": "4Nh6YaOFvLia",
        "outputId": "9e8565db-6852-4b88-fc48-46befa0cbee9"
      },
      "execution_count": 23,
      "outputs": [
        {
          "output_type": "execute_result",
          "data": {
            "text/plain": [
              "tensor([14, 20, 26])"
            ]
          },
          "metadata": {},
          "execution_count": 23
        }
      ]
    },
    {
      "cell_type": "code",
      "source": [
        "# element wise multiplication\n",
        "tensor_1 = torch.tensor([1, 2, 3])\n",
        "tensor_2 = torch.tensor([4, 5, 6])\n",
        "\n",
        "print(tensor_1, \" * \", tensor_2)\n",
        "print(f\"Equals: {tensor_1 * tensor_2}\")"
      ],
      "metadata": {
        "colab": {
          "base_uri": "https://localhost:8080/"
        },
        "id": "3stHf6NoVdV1",
        "outputId": "3f87efdc-4529-4ec1-88b1-515b4a3f7016"
      },
      "execution_count": 24,
      "outputs": [
        {
          "output_type": "stream",
          "name": "stdout",
          "text": [
            "tensor([1, 2, 3])  *  tensor([4, 5, 6])\n",
            "Equals: tensor([ 4, 10, 18])\n"
          ]
        }
      ]
    },
    {
      "cell_type": "markdown",
      "source": [
        "## Time comparison of tensor operations"
      ],
      "metadata": {
        "id": "NxfsIuSuWylW"
      }
    },
    {
      "cell_type": "code",
      "source": [
        "%%time\n",
        "value = 0\n",
        "for i in range(len(tensor_1)):\n",
        "  value += tensor_1[i] * tensor_1[i]\n",
        "print(value)"
      ],
      "metadata": {
        "colab": {
          "base_uri": "https://localhost:8080/"
        },
        "id": "ioffMHOwW2GE",
        "outputId": "f996b43c-1178-486a-d799-fe59b598b17e"
      },
      "execution_count": 25,
      "outputs": [
        {
          "output_type": "stream",
          "name": "stdout",
          "text": [
            "tensor(14)\n",
            "CPU times: user 1.69 ms, sys: 136 µs, total: 1.83 ms\n",
            "Wall time: 2.1 ms\n"
          ]
        }
      ]
    },
    {
      "cell_type": "code",
      "source": [
        "%%time\n",
        "torch.matmul(tensor_1, tensor_1)"
      ],
      "metadata": {
        "colab": {
          "base_uri": "https://localhost:8080/"
        },
        "id": "OuR3DNR4XJ5D",
        "outputId": "a2a1aa06-0fd3-438f-bf86-d27e78b6c4f3"
      },
      "execution_count": 26,
      "outputs": [
        {
          "output_type": "stream",
          "name": "stdout",
          "text": [
            "CPU times: user 910 µs, sys: 0 ns, total: 910 µs\n",
            "Wall time: 1.06 ms\n"
          ]
        },
        {
          "output_type": "execute_result",
          "data": {
            "text/plain": [
              "tensor(14)"
            ]
          },
          "metadata": {},
          "execution_count": 26
        }
      ]
    },
    {
      "cell_type": "code",
      "source": [
        "tensor_A = torch.tensor([[1, 2],\n",
        "                         [3, 4],\n",
        "                         [5, 6]])\n",
        "\n",
        "tensor_B = torch.tensor([[2, 3],\n",
        "                         [5, 7],\n",
        "                         [9, 3]])\n",
        "\n",
        "torch.matmul(tensor_A, tensor_B.T)"
      ],
      "metadata": {
        "colab": {
          "base_uri": "https://localhost:8080/"
        },
        "id": "jb0wTgnXOORu",
        "outputId": "77118ec5-213c-4ad4-9194-563a9ab51918"
      },
      "execution_count": 27,
      "outputs": [
        {
          "output_type": "execute_result",
          "data": {
            "text/plain": [
              "tensor([[ 8, 19, 15],\n",
              "        [18, 43, 39],\n",
              "        [28, 67, 63]])"
            ]
          },
          "metadata": {},
          "execution_count": 27
        }
      ]
    },
    {
      "cell_type": "code",
      "source": [
        "tensor_B.T"
      ],
      "metadata": {
        "colab": {
          "base_uri": "https://localhost:8080/"
        },
        "id": "4X5dpTQxW3fC",
        "outputId": "c2710257-6131-4c62-87ff-3f66209d40b2"
      },
      "execution_count": 28,
      "outputs": [
        {
          "output_type": "execute_result",
          "data": {
            "text/plain": [
              "tensor([[2, 5, 9],\n",
              "        [3, 7, 3]])"
            ]
          },
          "metadata": {},
          "execution_count": 28
        }
      ]
    },
    {
      "cell_type": "markdown",
      "source": [
        "## Tensor aggregation"
      ],
      "metadata": {
        "id": "dCvagklvXkHB"
      }
    },
    {
      "cell_type": "code",
      "source": [
        "tensor = torch.arange(0, 100, 10)\n",
        "tensor"
      ],
      "metadata": {
        "colab": {
          "base_uri": "https://localhost:8080/"
        },
        "id": "FQaGKg0MXo_6",
        "outputId": "9dafe374-d9b4-4f52-faaf-217d665efd48"
      },
      "execution_count": 29,
      "outputs": [
        {
          "output_type": "execute_result",
          "data": {
            "text/plain": [
              "tensor([ 0, 10, 20, 30, 40, 50, 60, 70, 80, 90])"
            ]
          },
          "metadata": {},
          "execution_count": 29
        }
      ]
    },
    {
      "cell_type": "code",
      "source": [
        "# find the max\n",
        "torch.max(tensor), tensor.max()"
      ],
      "metadata": {
        "colab": {
          "base_uri": "https://localhost:8080/"
        },
        "id": "5KeGwlzfX_ZD",
        "outputId": "39cc8ad1-d063-421d-894d-be1e49634303"
      },
      "execution_count": 30,
      "outputs": [
        {
          "output_type": "execute_result",
          "data": {
            "text/plain": [
              "(tensor(90), tensor(90))"
            ]
          },
          "metadata": {},
          "execution_count": 30
        }
      ]
    },
    {
      "cell_type": "code",
      "source": [
        "# find the mim\n",
        "torch.min(tensor), tensor.min()"
      ],
      "metadata": {
        "colab": {
          "base_uri": "https://localhost:8080/"
        },
        "id": "ZJLkXXwDX1th",
        "outputId": "aea7436a-cc38-4f43-aaa5-52b36294c6cb"
      },
      "execution_count": 31,
      "outputs": [
        {
          "output_type": "execute_result",
          "data": {
            "text/plain": [
              "(tensor(0), tensor(0))"
            ]
          },
          "metadata": {},
          "execution_count": 31
        }
      ]
    },
    {
      "cell_type": "code",
      "source": [
        "# find the mean\n",
        "torch.mean(tensor, dtype=torch.float32), tensor.type(torch.float32).mean()"
      ],
      "metadata": {
        "colab": {
          "base_uri": "https://localhost:8080/"
        },
        "id": "LyQ6CkBGYGzx",
        "outputId": "f3c07ad3-db95-46a3-d711-30a3349a67cd"
      },
      "execution_count": 32,
      "outputs": [
        {
          "output_type": "execute_result",
          "data": {
            "text/plain": [
              "(tensor(45.), tensor(45.))"
            ]
          },
          "metadata": {},
          "execution_count": 32
        }
      ]
    },
    {
      "cell_type": "code",
      "source": [
        "# find the sum\n",
        "torch.sum(tensor), tensor.sum()"
      ],
      "metadata": {
        "colab": {
          "base_uri": "https://localhost:8080/"
        },
        "id": "hAaOyRTiY6Ow",
        "outputId": "60c7f6ee-e494-4268-d465-0cb89933e49d"
      },
      "execution_count": 33,
      "outputs": [
        {
          "output_type": "execute_result",
          "data": {
            "text/plain": [
              "(tensor(450), tensor(450))"
            ]
          },
          "metadata": {},
          "execution_count": 33
        }
      ]
    },
    {
      "cell_type": "markdown",
      "source": [
        "## Finding the positional min and max"
      ],
      "metadata": {
        "id": "MoVFxFezZKzX"
      }
    },
    {
      "cell_type": "code",
      "source": [
        "# returns the index of the minimum value in the tensor\n",
        "tensor.argmin()"
      ],
      "metadata": {
        "colab": {
          "base_uri": "https://localhost:8080/"
        },
        "id": "qvJC58dYZKgo",
        "outputId": "f9bdea39-13fd-46d8-c120-3ff6c219c3af"
      },
      "execution_count": 34,
      "outputs": [
        {
          "output_type": "execute_result",
          "data": {
            "text/plain": [
              "tensor(0)"
            ]
          },
          "metadata": {},
          "execution_count": 34
        }
      ]
    },
    {
      "cell_type": "code",
      "source": [
        "# returns the index of the maximum value in the tensor\n",
        "tensor.argmax().numpy()"
      ],
      "metadata": {
        "colab": {
          "base_uri": "https://localhost:8080/"
        },
        "id": "Y5bNM5PQZbLg",
        "outputId": "b7557be9-0c29-4ab0-d13f-742f56ca96d4"
      },
      "execution_count": 35,
      "outputs": [
        {
          "output_type": "execute_result",
          "data": {
            "text/plain": [
              "array(9)"
            ]
          },
          "metadata": {},
          "execution_count": 35
        }
      ]
    },
    {
      "cell_type": "markdown",
      "source": [
        "# Reshaping, stacking, squeezing and unsqueezing tensor"
      ],
      "metadata": {
        "id": "ddNZUGmDaXjD"
      }
    },
    {
      "cell_type": "code",
      "source": [
        "tensor = torch.arange(1., 10.)\n",
        "tensor"
      ],
      "metadata": {
        "colab": {
          "base_uri": "https://localhost:8080/"
        },
        "id": "Sj3iL-GNajRB",
        "outputId": "347beaa0-8088-4be4-afd0-cb7927946fab"
      },
      "execution_count": 36,
      "outputs": [
        {
          "output_type": "execute_result",
          "data": {
            "text/plain": [
              "tensor([1., 2., 3., 4., 5., 6., 7., 8., 9.])"
            ]
          },
          "metadata": {},
          "execution_count": 36
        }
      ]
    },
    {
      "cell_type": "code",
      "source": [
        "# adding an extra dimension\n",
        "tensor_reshaped = tensor.reshape(1, 9)\n",
        "tensor_reshaped"
      ],
      "metadata": {
        "colab": {
          "base_uri": "https://localhost:8080/"
        },
        "id": "5CCsMn88bMVp",
        "outputId": "85f03fd9-9b6e-40ee-a892-921ee6838ce9"
      },
      "execution_count": 37,
      "outputs": [
        {
          "output_type": "execute_result",
          "data": {
            "text/plain": [
              "tensor([[1., 2., 3., 4., 5., 6., 7., 8., 9.]])"
            ]
          },
          "metadata": {},
          "execution_count": 37
        }
      ]
    },
    {
      "cell_type": "code",
      "source": [
        "# stack tensors on top of each other\n",
        "tensor_scacked = torch.stack([tensor, tensor, tensor, tensor], dim=0)\n",
        "tensor_scacked"
      ],
      "metadata": {
        "colab": {
          "base_uri": "https://localhost:8080/"
        },
        "id": "62OdAYJVbwzH",
        "outputId": "9cc1213c-fb4d-441d-e36d-10a5d2bf7902"
      },
      "execution_count": 43,
      "outputs": [
        {
          "output_type": "execute_result",
          "data": {
            "text/plain": [
              "tensor([[1., 2., 3., 4., 5., 6., 7., 8., 9.],\n",
              "        [1., 2., 3., 4., 5., 6., 7., 8., 9.],\n",
              "        [1., 2., 3., 4., 5., 6., 7., 8., 9.],\n",
              "        [1., 2., 3., 4., 5., 6., 7., 8., 9.]])"
            ]
          },
          "metadata": {},
          "execution_count": 43
        }
      ]
    },
    {
      "cell_type": "code",
      "source": [
        "# squeezing a tensor\n",
        "tensor = torch.tensor([[[1, 2, 3],\n",
        "                        [4, 5, 6]]])\n",
        "tensor.shape, torch.squeeze(tensor).shape"
      ],
      "metadata": {
        "colab": {
          "base_uri": "https://localhost:8080/"
        },
        "id": "nsyErvkcJKrb",
        "outputId": "64bef01e-6826-4629-a24f-91ed5a10a07f"
      },
      "execution_count": 44,
      "outputs": [
        {
          "output_type": "execute_result",
          "data": {
            "text/plain": [
              "(torch.Size([1, 2, 3]), torch.Size([2, 3]))"
            ]
          },
          "metadata": {},
          "execution_count": 44
        }
      ]
    },
    {
      "cell_type": "code",
      "source": [
        "# using permute\n",
        "image_tensor = torch.rand(size=(224, 224, 3))\n",
        "\n",
        "# fliping the dimensions\n",
        "image_tensor_permuted = image_tensor.permute(2, 0, 1)\n",
        "\n",
        "# checking the shapes\n",
        "image_tensor.shape, image_tensor_permuted.shape"
      ],
      "metadata": {
        "colab": {
          "base_uri": "https://localhost:8080/"
        },
        "id": "cqnbBkl4J3qu",
        "outputId": "1742589b-48ae-4204-91b0-575e6af34bbe"
      },
      "execution_count": 45,
      "outputs": [
        {
          "output_type": "execute_result",
          "data": {
            "text/plain": [
              "(torch.Size([224, 224, 3]), torch.Size([3, 224, 224]))"
            ]
          },
          "metadata": {},
          "execution_count": 45
        }
      ]
    }
  ]
}